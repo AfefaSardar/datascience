{
 "cells": [
  {
   "cell_type": "code",
   "execution_count": 1,
   "id": "b2043d1f",
   "metadata": {},
   "outputs": [
    {
     "name": "stderr",
     "output_type": "stream",
     "text": [
      "C:\\Users\\sarda\\anaconda3\\lib\\site-packages\\scipy\\__init__.py:146: UserWarning: A NumPy version >=1.16.5 and <1.23.0 is required for this version of SciPy (detected version 1.26.4\n",
      "  warnings.warn(f\"A NumPy version >={np_minversion} and <{np_maxversion}\"\n"
     ]
    },
    {
     "name": "stdout",
     "output_type": "stream",
     "text": [
      "['Every', 'one', 'is', 'in', 'the', 'same', 'sky', ',', 'so', 'take', 'your', 'wings', 'strong', 'and', 'take', 'a', 'flight']\n"
     ]
    },
    {
     "name": "stderr",
     "output_type": "stream",
     "text": [
      "[nltk_data] Downloading package punkt to\n",
      "[nltk_data]     C:\\Users\\sarda\\AppData\\Roaming\\nltk_data...\n",
      "[nltk_data]   Package punkt is already up-to-date!\n"
     ]
    }
   ],
   "source": [
    "import nltk\n",
    "nltk.download('punkt')\n",
    "text = \"Every one is in the same sky , so take your wings strong and take a flight\"\n",
    "words = nltk.word_tokenize(text)\n",
    "print(words)"
   ]
  },
  {
   "cell_type": "code",
   "execution_count": 2,
   "id": "fb098541",
   "metadata": {},
   "outputs": [
    {
     "name": "stdout",
     "output_type": "stream",
     "text": [
      "[('Every', 'DT'), ('one', 'CD'), ('is', 'VBZ'), ('in', 'IN'), ('the', 'DT'), ('same', 'JJ'), ('sky', 'NN'), (',', ','), ('so', 'RB'), ('take', 'VB'), ('your', 'PRP$'), ('wings', 'NNS'), ('strong', 'JJ'), ('and', 'CC'), ('take', 'VB'), ('a', 'DT'), ('flight', 'NN')]\n"
     ]
    },
    {
     "name": "stderr",
     "output_type": "stream",
     "text": [
      "[nltk_data] Error loading average_perceptron_tagger: Package\n",
      "[nltk_data]     'average_perceptron_tagger' not found in index\n"
     ]
    }
   ],
   "source": [
    "nltk.download('average_perceptron_tagger')\n",
    "pos = nltk.pos_tag(words)\n",
    "print(pos)"
   ]
  },
  {
   "cell_type": "code",
   "execution_count": 4,
   "id": "062818ef",
   "metadata": {},
   "outputs": [
    {
     "name": "stdout",
     "output_type": "stream",
     "text": [
      "Every one sky , take wings strong take flight\n"
     ]
    },
    {
     "name": "stderr",
     "output_type": "stream",
     "text": [
      "[nltk_data] Downloading package stopwords to\n",
      "[nltk_data]     C:\\Users\\sarda\\AppData\\Roaming\\nltk_data...\n",
      "[nltk_data]   Package stopwords is already up-to-date!\n"
     ]
    }
   ],
   "source": [
    "nltk.download('stopwords')\n",
    "from nltk.corpus import stopwords\n",
    "s_word = ' '.join([word for word in words if word.lower() not in stopwords.words('english')])\n",
    "print(s_word)"
   ]
  },
  {
   "cell_type": "code",
   "execution_count": 5,
   "id": "fcf0e2ef",
   "metadata": {},
   "outputs": [
    {
     "name": "stderr",
     "output_type": "stream",
     "text": [
      "[nltk_data] Downloading package wordnet to\n",
      "[nltk_data]     C:\\Users\\sarda\\AppData\\Roaming\\nltk_data...\n",
      "[nltk_data]   Package wordnet is already up-to-date!\n"
     ]
    },
    {
     "name": "stdout",
     "output_type": "stream",
     "text": [
      "['everi', 'one', 'is', 'in', 'the', 'same', 'sky', ',', 'so', 'take', 'your', 'wing', 'strong', 'and', 'take', 'a', 'flight']\n",
      "['Every', 'one', 'is', 'in', 'the', 'same', 'sky', ',', 'so', 'take', 'your', 'wing', 'strong', 'and', 'take', 'a', 'flight']\n"
     ]
    }
   ],
   "source": [
    "from nltk.stem import PorterStemmer, WordNetLemmatizer\n",
    "nltk.download('wordnet')\n",
    "\n",
    "\n",
    "stem = PorterStemmer()\n",
    "lemm = WordNetLemmatizer()\n",
    "\n",
    "stem_words = [stem.stem(word) for word in words]\n",
    "print(stem_words)\n",
    "\n",
    "\n",
    "lemm_words = [lemm.lemmatize(word) for word in words]\n",
    "print(lemm_words)"
   ]
  },
  {
   "cell_type": "code",
   "execution_count": 6,
   "id": "e3f268ae",
   "metadata": {},
   "outputs": [
    {
     "name": "stdout",
     "output_type": "stream",
     "text": [
      "[[0.54645401 0.54645401 0.         0.         0.32274454 0.54645401\n",
      "  0.        ]\n",
      " [0.         0.         0.54783215 0.72033345 0.42544054 0.\n",
      "  0.        ]\n",
      " [0.         0.         0.54783215 0.         0.42544054 0.\n",
      "  0.72033345]]\n"
     ]
    }
   ],
   "source": [
    "from sklearn.feature_extraction.text import TfidfVectorizer\n",
    "\n",
    "documents = [\n",
    "    \n",
    "    \"neha can not dance.\",\n",
    "    \"neha like dancing.\",\n",
    "    \"neha stops dancing.\"\n",
    "]\n",
    "\n",
    "\n",
    "tfidf = TfidfVectorizer()\n",
    "\n",
    "matrix = tfidf.fit_transform(documents)\n",
    "print(matrix.toarray())"
   ]
  },
  {
   "cell_type": "code",
   "execution_count": null,
   "id": "84e46645",
   "metadata": {},
   "outputs": [],
   "source": []
  }
 ],
 "metadata": {
  "kernelspec": {
   "display_name": "Python 3 (ipykernel)",
   "language": "python",
   "name": "python3"
  },
  "language_info": {
   "codemirror_mode": {
    "name": "ipython",
    "version": 3
   },
   "file_extension": ".py",
   "mimetype": "text/x-python",
   "name": "python",
   "nbconvert_exporter": "python",
   "pygments_lexer": "ipython3",
   "version": "3.9.7"
  }
 },
 "nbformat": 4,
 "nbformat_minor": 5
}
