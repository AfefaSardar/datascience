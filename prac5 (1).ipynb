{
 "cells": [
  {
   "cell_type": "code",
   "execution_count": 13,
   "id": "bce1fa32",
   "metadata": {
    "scrolled": true
   },
   "outputs": [
    {
     "name": "stdout",
     "output_type": "stream",
     "text": [
      "    User ID  Gender  Age  EstimatedSalary  Purchased\n",
      "0  15624510    Male   19            19000          0\n",
      "1  15810944    Male   35            20000          0\n",
      "2  15668575  Female   26            43000          0\n",
      "3  15603246  Female   27            57000          0\n",
      "4  15804002    Male   19            76000          0\n",
      "Confusion Matrix:\n",
      "[[65  3]\n",
      " [ 8 24]]\n",
      "True Positives: 24\n",
      "False Positives: 3\n",
      "True Negatives: 65\n",
      "False Negatives: 8\n",
      "Accuracy: 0.89\n",
      "Error Rate: 0.10999999999999999\n",
      "Precision: 0.8888888888888888\n",
      "Recall: 0.75\n"
     ]
    }
   ],
   "source": [
    "# Importing necessary libraries\n",
    "import pandas as pd\n",
    "import numpy as np\n",
    "from sklearn.model_selection import train_test_split\n",
    "from sklearn.preprocessing import StandardScaler\n",
    "from sklearn.linear_model import LogisticRegression\n",
    "from sklearn.metrics import confusion_matrix, accuracy_score, precision_score, recall_score\n",
    "\n",
    "# Load the dataset\n",
    "data = pd.read_csv(\"Social_Network_Ads.csv\")\n",
    "\n",
    "# Exploring the dataset\n",
    "print(data.head())\n",
    "\n",
    "# Splitting the data into features and target variable\n",
    "X = data[['Age', 'EstimatedSalary']].values  # Selecting 'Age' and 'EstimatedSalary' as features\n",
    "y = data['Purchased'].values       # Selecting 'Purchased' as target variable\n",
    "\n",
    "\n",
    "# Splitting the dataset into the Training set and Test set\n",
    "X_train, X_test, y_train, y_test = train_test_split(X, y, test_size=0.25, random_state=0)\n",
    "\n",
    "\n",
    "# Feature Scaling\n",
    "sc = StandardScaler()\n",
    "X_train = sc.fit_transform(X_train)\n",
    "X_test = sc.transform(X_test)\n",
    "\n",
    "\n",
    "# Fitting Logistic Regression to the Training set\n",
    "model= LogisticRegression(random_state=0)\n",
    "model.fit(X_train, y_train)\n",
    "\n",
    "# Predicting the Test set results\n",
    "y_pred =model.predict(X_test)\n",
    "\n",
    "# Computing the confusion matrix\n",
    "cm = confusion_matrix(y_test, y_pred)\n",
    "\n",
    "# Extracting TP, FP, TN, FN\n",
    "TP = cm[1, 1]\n",
    "FP = cm[0, 1]\n",
    "TN = cm[0, 0]\n",
    "FN = cm[1, 0]\n",
    "\n",
    "\n",
    "# Computing Accuracy\n",
    "accuracy = accuracy_score(y_test, y_pred)\n",
    "\n",
    "# Computing Error Rate\n",
    "error_rate = 1 - accuracy\n",
    "\n",
    "# Computing Precision\n",
    "precision = precision_score(y_test, y_pred)\n",
    "\n",
    "# Computing Recall\n",
    "recall = recall_score(y_test, y_pred)\n",
    "\n",
    "# Displaying results\n",
    "print(\"Confusion Matrix:\")\n",
    "print(cm)\n",
    "print(\"True Positives:\", TP)\n",
    "print(\"False Positives:\", FP)\n",
    "print(\"True Negatives:\", TN)\n",
    "print(\"False Negatives:\", FN)\n",
    "print(\"Accuracy:\", accuracy)\n",
    "print(\"Error Rate:\", error_rate)\n",
    "print(\"Precision:\", precision)\n",
    "print(\"Recall:\", recall)\n"
   ]
  },
  {
   "cell_type": "code",
   "execution_count": null,
   "id": "7cd1e8ad",
   "metadata": {},
   "outputs": [],
   "source": []
  }
 ],
 "metadata": {
  "kernelspec": {
   "display_name": "Python 3 (ipykernel)",
   "language": "python",
   "name": "python3"
  },
  "language_info": {
   "codemirror_mode": {
    "name": "ipython",
    "version": 3
   },
   "file_extension": ".py",
   "mimetype": "text/x-python",
   "name": "python",
   "nbconvert_exporter": "python",
   "pygments_lexer": "ipython3",
   "version": "3.9.7"
  }
 },
 "nbformat": 4,
 "nbformat_minor": 5
}
