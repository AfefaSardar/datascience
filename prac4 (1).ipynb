{
 "cells": [
  {
   "cell_type": "code",
   "execution_count": 2,
   "id": "bb3292d8",
   "metadata": {},
   "outputs": [
    {
     "data": {
      "text/plain": [
       "Index(['RM', 'LSTAT', 'PTRATIO', 'MEDV'], dtype='object')"
      ]
     },
     "execution_count": 2,
     "metadata": {},
     "output_type": "execute_result"
    }
   ],
   "source": [
    "import numpy as np\n",
    "import pandas as pd\n",
    "import matplotlib.pyplot as plt\n",
    "import seaborn as sns\n",
    "from sklearn.model_selection import train_test_split\n",
    "from sklearn.linear_model import LinearRegression\n",
    "\n",
    "# Load the dataset\n",
    "data = pd.read_csv(\"boston_housing.csv\")\n",
    "data.columns"
   ]
  },
  {
   "cell_type": "code",
   "execution_count": 3,
   "id": "37e972e0",
   "metadata": {},
   "outputs": [
    {
     "name": "stdout",
     "output_type": "stream",
     "text": [
      "     Actual Prices  Predicted Prices\n",
      "451       401100.0     342593.790298\n",
      "84        501900.0     506257.091630\n",
      "434       319200.0     410499.931662\n",
      "472       147000.0     237792.741154\n",
      "428       247800.0     327005.796532\n",
      "..             ...               ...\n",
      "317       405300.0     487964.056958\n",
      "376       289800.0     397345.905117\n",
      "56        518700.0     569811.904427\n",
      "275       422100.0     463015.874830\n",
      "398       151200.0     270976.110254\n",
      "\n",
      "[98 rows x 2 columns]\n",
      "efficency of model : 69.10934003098508 %\n"
     ]
    }
   ],
   "source": [
    "X = data[['RM', 'LSTAT', 'PTRATIO']]\n",
    "y = data['MEDV']\n",
    "X_train, X_test, y_train, y_test = train_test_split(X, y, test_size=0.2, random_state=42)\n",
    "model = LinearRegression()\n",
    "model.fit(X_train, y_train)\n",
    "y_pred = model.predict(X_test)\n",
    "results = pd.DataFrame({'Actual Prices': y_test, 'Predicted Prices': y_pred})\n",
    "print(results)\n",
    "a=model.score( X_test, y_test)\n",
    "print(\"efficency of model :\",a*100,\"%\")"
   ]
  },
  {
   "cell_type": "code",
   "execution_count": 13,
   "id": "fdc2bf63",
   "metadata": {},
   "outputs": [
    {
     "data": {
      "image/png": "[encoded data removed]",
      "text/plain": [
       "<Figure size 576x432 with 1 Axes>"
      ]
     },
     "metadata": {
      "needs_background": "light"
     },
     "output_type": "display_data"
    }
   ],
   "source": [
    "import matplotlib.pyplot as plt\n",
    "\n",
    "# Subset the first 3 rows of the results dataframe\n",
    "subset_results = results.head(3)\n",
    "\n",
    "# Extract actual and predicted prices from the subset\n",
    "actual_prices = subset_results['Actual Prices']\n",
    "predicted_prices = subset_results['Predicted Prices']\n",
    "\n",
    "# Create scatter plot\n",
    "plt.figure(figsize=(8, 6))\n",
    "plt.scatter(actual_prices, predicted_prices, color='blue')\n",
    "plt.title('Actual vs Predicted Prices')\n",
    "plt.xlabel('Actual Prices')\n",
    "plt.ylabel('Predicted Prices')\n",
    "plt.grid(True)\n",
    "plt.show()\n"
   ]
  },
  {
   "cell_type": "code",
   "execution_count": null,
   "id": "28fcd0ed",
   "metadata": {},
   "outputs": [],
   "source": []
  }
 ],
 "metadata": {
  "kernelspec": {
   "display_name": "Python 3 (ipykernel)",
   "language": "python",
   "name": "python3"
  },
  "language_info": {
   "codemirror_mode": {
    "name": "ipython",
    "version": 3
   },
   "file_extension": ".py",
   "mimetype": "text/x-python",
   "name": "python",
   "nbconvert_exporter": "python",
   "pygments_lexer": "ipython3",
   "version": "3.9.7"
  }
 },
 "nbformat": 4,
 "nbformat_minor": 5
}
